{
 "cells": [
  {
   "cell_type": "markdown",
   "id": "8986a195-a625-409c-aec9-23c82a4e3919",
   "metadata": {},
   "source": [
    "# Chapter 2"
   ]
  },
  {
   "cell_type": "code",
   "execution_count": 1,
   "id": "1ce47277-619e-439d-9673-388b558e043d",
   "metadata": {
    "tags": []
   },
   "outputs": [],
   "source": [
    "try:\n",
    "    import google.colab\n",
    "    import requests\n",
    "    url = 'https://raw.githubusercontent.com/dvgodoy/PyTorchStepByStep/master/config.py'\n",
    "    r = requests.get(url, allow_redirects=True)\n",
    "    open('config.py', 'wb').write(r.content)    \n",
    "except ModuleNotFoundError:\n",
    "    pass\n",
    "\n",
    "from config import *\n",
    "config_chapter2()\n",
    "# This is needed to render the plots in this chapter\n",
    "from plots.chapter2 import *"
   ]
  },
  {
   "cell_type": "code",
   "execution_count": 2,
   "id": "d0deced4-88d8-4199-bcf2-80d3f3bb10ee",
   "metadata": {
    "tags": []
   },
   "outputs": [],
   "source": [
    "import numpy as np\n",
    "from sklearn.linear_model import LinearRegression\n",
    "\n",
    "import torch\n",
    "import torch.optim as optim\n",
    "import torch.nn as nn\n",
    "from torch.utils.data import Dataset, TensorDataset, DataLoader\n",
    "from torch.utils.data.dataset import random_split\n",
    "from torch.utils.tensorboard import SummaryWriter\n",
    "\n",
    "import matplotlib.pyplot as plt\n",
    "%matplotlib inline\n",
    "plt.style.use('fivethirtyeight')"
   ]
  },
  {
   "cell_type": "markdown",
   "id": "42b03756-28d0-462a-b6b6-df576e9ec0c1",
   "metadata": {},
   "source": [
    "# Rethinking the Training Loop"
   ]
  },
  {
   "cell_type": "markdown",
   "id": "6a0a3fcc-8ba1-409b-8cbf-78c45710077f",
   "metadata": {},
   "source": [
    "### Model Training V0"
   ]
  },
  {
   "cell_type": "code",
   "execution_count": 3,
   "id": "7f7a7fd8-99b0-400d-9377-99c3e3a1e0df",
   "metadata": {
    "tags": []
   },
   "outputs": [],
   "source": [
    "%run -i data_generation/simple_linear_regression.py\n",
    "%run -i data_preparation/v0.py\n",
    "%run -i model_configuration/v0.py"
   ]
  },
  {
   "cell_type": "code",
   "execution_count": 4,
   "id": "3c0fd7fe-a223-40b6-9a24-dbd3c6dea908",
   "metadata": {
    "tags": []
   },
   "outputs": [
    {
     "name": "stdout",
     "output_type": "stream",
     "text": [
      "OrderedDict([('0.weight', tensor([[1.9690]], device='cuda:0')), ('0.bias', tensor([1.0235], device='cuda:0'))])\n"
     ]
    }
   ],
   "source": [
    "# %load  model_training/v0.py\n",
    "# Defines number of epochs\n",
    "n_epochs = 1000\n",
    "\n",
    "for epoch in range(n_epochs):\n",
    "    # Sets model to TRAIN mode\n",
    "    model.train()\n",
    "    \n",
    "    # Step 1 - Computes model's predicted output - forward pass\n",
    "    yhat = model(x_train_tensor)\n",
    "    \n",
    "    # Setp 2 - Computes loss\n",
    "    loss = loss_fn(yhat, y_train_tensor)\n",
    "    \n",
    "    # Step 3 - Computes gradients\n",
    "    loss.backward()\n",
    "    \n",
    "    # Step 4 - Update parameters\n",
    "    optimizer.step()\n",
    "    optimizer.zero_grad()\n",
    "\n",
    "print(model.state_dict())"
   ]
  },
  {
   "cell_type": "markdown",
   "id": "956dab2d-e743-46ea-ba78-6e87778dc794",
   "metadata": {},
   "source": [
    "### Training Step"
   ]
  },
  {
   "cell_type": "markdown",
   "id": "5063d29e-ee70-460f-9bec-9f965ad03111",
   "metadata": {},
   "source": [
    "#### Helper Function #1"
   ]
  },
  {
   "cell_type": "code",
   "execution_count": 5,
   "id": "15244f7c-ed6c-4891-8110-7d108e558f5f",
   "metadata": {
    "tags": []
   },
   "outputs": [],
   "source": [
    "def make_train_step_fn(model, loss_fn, optimizer):\n",
    "    # Builds function that performs a step in the train loop\n",
    "    def perform_train_step_fn(x, y):\n",
    "        # Sets model to train mode\n",
    "        model.train()\n",
    "        \n",
    "        # Step 1 - Computes model's predictions - forward pass\n",
    "        yhat = model(x)\n",
    "        # Step 2 - Computes the loss\n",
    "        loss = loss_fn(yhat, y)\n",
    "        # Step 3 - Computes gradients\n",
    "        loss.backward()\n",
    "        # Step 4 - Update parameters\n",
    "        optimizer.step()\n",
    "        optimizer.zero_grad()\n",
    "        \n",
    "        # Returns the loss\n",
    "        return loss.item()\n",
    "    \n",
    "    # Returns the function that will be called inside training loop\n",
    "    return perform_train_step_fn"
   ]
  },
  {
   "cell_type": "markdown",
   "id": "0e6a5b6d-30d1-4cfb-a932-3d906044a579",
   "metadata": {},
   "source": [
    "## Model Configuration V1"
   ]
  },
  {
   "cell_type": "code",
   "execution_count": 6,
   "id": "81017c68-f5ca-4b1b-8cd9-6cc88929c934",
   "metadata": {
    "tags": []
   },
   "outputs": [],
   "source": [
    "# prepare data\n",
    "\n",
    "%run -i data_preparation/v0.py"
   ]
  },
  {
   "cell_type": "markdown",
   "id": "35cb49a2-191e-4274-aebf-d4e87e6bf6de",
   "metadata": {},
   "source": [
    "let's update model configuration to use the new helper function"
   ]
  },
  {
   "cell_type": "code",
   "execution_count": 7,
   "id": "09aa4a8d-c93a-4594-984e-e73254737cfa",
   "metadata": {
    "tags": []
   },
   "outputs": [
    {
     "name": "stdout",
     "output_type": "stream",
     "text": [
      "Overwriting model_configuration/v1.py\n"
     ]
    }
   ],
   "source": [
    "%%writefile model_configuration/v1.py\n",
    "\n",
    "device = 'cuda' if torch.cuda.is_available() else 'cpu'\n",
    "\n",
    "# Sets learning rate\n",
    "lr = 0.1\n",
    "\n",
    "torch.manual_seed(42)\n",
    "# Now we can create a model and send it at once to the device\n",
    "model = nn.Sequential(\n",
    "    nn.Linear(1, 1)\n",
    ").to(device)\n",
    "\n",
    "# Defines an SGD optimizer to update the parameters\n",
    "optimizer = optim.SGD(model.parameters(), lr=lr)\n",
    "\n",
    "# Defines an MSE loss function\n",
    "loss_fn = nn.MSELoss(reduction='mean')\n",
    "\n",
    "# Creates the train_step function for our model, loss function and optimizer\n",
    "train_step_fn = make_train_step_fn(model, loss_fn, optimizer)"
   ]
  },
  {
   "cell_type": "code",
   "execution_count": 8,
   "id": "ccd42c62-b974-4786-8c22-34a87827c387",
   "metadata": {
    "tags": []
   },
   "outputs": [],
   "source": [
    "# load model_configuration v1.py\n",
    "%run -i model_configuration/v1.py"
   ]
  },
  {
   "cell_type": "code",
   "execution_count": 9,
   "id": "fc8258bb-95d0-4e0b-8c3d-ff79e926e986",
   "metadata": {
    "tags": []
   },
   "outputs": [
    {
     "data": {
      "text/plain": [
       "<function __main__.make_train_step_fn.<locals>.perform_train_step_fn(x, y)>"
      ]
     },
     "execution_count": 9,
     "metadata": {},
     "output_type": "execute_result"
    }
   ],
   "source": [
    "# check the new train_step function\n",
    "train_step_fn"
   ]
  },
  {
   "cell_type": "markdown",
   "id": "2d14c9ba-0447-4265-95c0-ec28f49c93fc",
   "metadata": {},
   "source": [
    "let's update the model training file"
   ]
  },
  {
   "cell_type": "code",
   "execution_count": 10,
   "id": "1b22f830-d427-4612-afab-4818ff45bd93",
   "metadata": {
    "tags": []
   },
   "outputs": [
    {
     "name": "stdout",
     "output_type": "stream",
     "text": [
      "Overwriting model_training/v1.py\n"
     ]
    }
   ],
   "source": [
    "%%writefile model_training/v1.py\n",
    "\n",
    "# Defines number of epochs\n",
    "n_epochs = 1000\n",
    "\n",
    "losses = []\n",
    "\n",
    "for epoch in range(n_epochs):\n",
    "    # Performs one train step and returns the corresponding loss\n",
    "    loss = train_step_fn(x_train_tensor, y_train_tensor)\n",
    "    losses.append(loss)"
   ]
  },
  {
   "cell_type": "code",
   "execution_count": 11,
   "id": "8438db5f-f8f8-4aa0-8b67-a7be32bfd041",
   "metadata": {
    "tags": []
   },
   "outputs": [],
   "source": [
    "# run model_training/v1.py\n",
    "%run -i model_training/v1.py"
   ]
  },
  {
   "cell_type": "code",
   "execution_count": 12,
   "id": "ecfda540-9eb8-49a9-8033-ef5a60f18676",
   "metadata": {
    "tags": []
   },
   "outputs": [
    {
     "name": "stdout",
     "output_type": "stream",
     "text": [
      "OrderedDict([('0.weight', tensor([[1.9690]], device='cuda:0')), ('0.bias', tensor([1.0235], device='cuda:0'))])\n"
     ]
    }
   ],
   "source": [
    "print(model.state_dict())"
   ]
  },
  {
   "cell_type": "markdown",
   "id": "53a46616-3df7-4879-a136-369facfeab66",
   "metadata": {},
   "source": [
    "## Dataset"
   ]
  },
  {
   "cell_type": "code",
   "execution_count": 13,
   "id": "87b2de5b-7b24-46fa-8a7f-7791ca53b1cc",
   "metadata": {
    "tags": []
   },
   "outputs": [
    {
     "name": "stdout",
     "output_type": "stream",
     "text": [
      "(tensor([0.7713]), tensor([2.4745]))\n"
     ]
    }
   ],
   "source": [
    "class CustomDataset(Dataset):\n",
    "    def __init__(self, x_tensor, y_tensor):\n",
    "        self.x = x_tensor\n",
    "        self.y = y_tensor\n",
    "        \n",
    "    def __getitem__(self, index):\n",
    "        return (self.x[index], self.y[index])\n",
    "    \n",
    "    def __len__(self):\n",
    "        return len(self.x)\n",
    "                \n",
    "                \n",
    "# load training data in the CPU this time\n",
    "x_train_tensor = torch.as_tensor(x_train).float()\n",
    "y_train_tensor = torch.as_tensor(y_train).float()\n",
    "                \n",
    "train_data = CustomDataset(x_train_tensor, y_train_tensor)\n",
    "print(train_data[0])"
   ]
  },
  {
   "cell_type": "markdown",
   "id": "15749139-004b-410f-8fc8-c078528e5380",
   "metadata": {
    "tags": []
   },
   "source": [
    "### Tensor Dataset"
   ]
  },
  {
   "cell_type": "code",
   "execution_count": 14,
   "id": "13fc0b13-b354-4595-b0e6-52c2af7cd913",
   "metadata": {
    "tags": []
   },
   "outputs": [
    {
     "name": "stdout",
     "output_type": "stream",
     "text": [
      "(tensor([0.7713]), tensor([2.4745]))\n"
     ]
    }
   ],
   "source": [
    "train_data = TensorDataset(x_train_tensor, y_train_tensor)\n",
    "print(train_data[0])"
   ]
  },
  {
   "cell_type": "markdown",
   "id": "c85eb264-6230-4a98-b744-eb628fea27fd",
   "metadata": {},
   "source": [
    "### DataLoader"
   ]
  },
  {
   "cell_type": "code",
   "execution_count": 15,
   "id": "2aaacd97-b6ea-4f94-88d3-8232f3c9fe92",
   "metadata": {
    "tags": []
   },
   "outputs": [],
   "source": [
    "# mini batch size = 16 . We have only 80 datapoints\n",
    "train_loader = DataLoader(\n",
    "        dataset=train_data,\n",
    "        batch_size=16,\n",
    "        shuffle=True\n",
    ")"
   ]
  },
  {
   "cell_type": "code",
   "execution_count": 16,
   "id": "6eb13ba0-7fc2-4b42-be1c-60f791b6aadc",
   "metadata": {
    "tags": []
   },
   "outputs": [
    {
     "data": {
      "text/plain": [
       "[tensor([[0.2809],\n",
       "         [0.3253],\n",
       "         [0.1560],\n",
       "         [0.5924],\n",
       "         [0.0651],\n",
       "         [0.8872],\n",
       "         [0.4938],\n",
       "         [0.0055],\n",
       "         [0.1409],\n",
       "         [0.0885],\n",
       "         [0.1849],\n",
       "         [0.7290],\n",
       "         [0.8662],\n",
       "         [0.3117],\n",
       "         [0.6842],\n",
       "         [0.1987]]),\n",
       " tensor([[1.5846],\n",
       "         [1.8057],\n",
       "         [1.2901],\n",
       "         [2.1687],\n",
       "         [1.1559],\n",
       "         [2.8708],\n",
       "         [1.9060],\n",
       "         [1.0632],\n",
       "         [1.1211],\n",
       "         [1.0708],\n",
       "         [1.5888],\n",
       "         [2.4927],\n",
       "         [2.6805],\n",
       "         [1.7637],\n",
       "         [2.3492],\n",
       "         [1.2654]])]"
      ]
     },
     "execution_count": 16,
     "metadata": {},
     "output_type": "execute_result"
    }
   ],
   "source": [
    "# retrieve data using next() for iterator\n",
    "next(iter(train_loader))"
   ]
  },
  {
   "cell_type": "code",
   "execution_count": 17,
   "id": "5510a32b-0fc6-47d6-b2ec-6669acde308d",
   "metadata": {
    "tags": []
   },
   "outputs": [
    {
     "name": "stdout",
     "output_type": "stream",
     "text": [
      "Overwriting data_preparation/v1.py\n"
     ]
    }
   ],
   "source": [
    "%%writefile data_preparation/v1.py\n",
    "\n",
    "# Data originally in Numpy\n",
    "x_train_tensor = torch.as_tensor(x_train).float()\n",
    "y_train_tensor = torch.as_tensor(y_train).float()\n",
    "\n",
    "# Builds Dataset\n",
    "train_data = TensorDataset(x_train_tensor, y_train_tensor)\n",
    "\n",
    "# Builds DataLoader\n",
    "train_loader = DataLoader(\n",
    "    dataset=train_data,\n",
    "    batch_size=16,\n",
    "    shuffle=True,\n",
    ")"
   ]
  },
  {
   "cell_type": "code",
   "execution_count": 18,
   "id": "45e79dad-60b4-4def-9b29-f166974f48f5",
   "metadata": {
    "tags": []
   },
   "outputs": [],
   "source": [
    "%run -i data_preparation/v1.py"
   ]
  },
  {
   "cell_type": "markdown",
   "id": "3a4f1931-4e76-48b4-b72a-f588edc30973",
   "metadata": {},
   "source": [
    "Incorporate the new mini-batch gradient descent logic"
   ]
  },
  {
   "cell_type": "code",
   "execution_count": 19,
   "id": "66ce8267-0d1a-4fd1-888d-32d6ca33b7d1",
   "metadata": {
    "tags": []
   },
   "outputs": [
    {
     "name": "stdout",
     "output_type": "stream",
     "text": [
      "Overwriting model_training/v2.py\n"
     ]
    }
   ],
   "source": [
    "%%writefile model_training/v2.py\n",
    "\n",
    "# Defines number of epochs\n",
    "n_epochs = 1000\n",
    "\n",
    "losses = []\n",
    "\n",
    "for epoch in range(n_epochs):\n",
    "    # store loss for each mini-batch\n",
    "    mini_batch_losses = []\n",
    "    # iterate through the train_loader\n",
    "    for x_batch, y_batch in train_loader:\n",
    "        # the dataset is in the CPU, so are the mini-batches\n",
    "        # therefore, we need to send those mini-batches to the\n",
    "        # device where the model \"lives\"\n",
    "        x_batch = x_batch.to(device)\n",
    "        y_batch = y_batch.to(device)\n",
    "        \n",
    "        # Performs one train step and returns the\n",
    "        # corresponding loss for this mini-batch\n",
    "        mini_batch_loss = train_step_fn(x_batch, y_batch)\n",
    "        mini_batch_losses.append(mini_batch_loss)\n",
    "        \n",
    "    # Computes the average loss over all mini-batches\n",
    "    # That's the epoch loss\n",
    "    loss = np.mean(mini_batch_losses)\n",
    "    \n",
    "    losses.append(loss)    "
   ]
  },
  {
   "cell_type": "code",
   "execution_count": 20,
   "id": "fb066eed-d45e-4419-a539-19e61ed6b201",
   "metadata": {
    "tags": []
   },
   "outputs": [],
   "source": [
    "%run -i model_training/v2.py"
   ]
  },
  {
   "cell_type": "code",
   "execution_count": 21,
   "id": "13032968-e3aa-4cd1-ae6d-303107be7f78",
   "metadata": {
    "tags": []
   },
   "outputs": [
    {
     "name": "stdout",
     "output_type": "stream",
     "text": [
      "OrderedDict([('0.weight', tensor([[1.9698]], device='cuda:0')), ('0.bias', tensor([1.0246], device='cuda:0'))])\n"
     ]
    }
   ],
   "source": [
    "print(model.state_dict())"
   ]
  },
  {
   "cell_type": "code",
   "execution_count": 22,
   "id": "302d2e1a-6c1b-4ec3-835a-8429efa6e5bf",
   "metadata": {
    "tags": []
   },
   "outputs": [],
   "source": [
    "%run -i data_preparation/v1.py\n",
    "%run -i model_configuration/v1.py\n",
    "%run -i model_training/v2.py"
   ]
  },
  {
   "cell_type": "code",
   "execution_count": 23,
   "id": "9c8d93d0-7c69-48c7-9c77-b751b7761788",
   "metadata": {
    "tags": []
   },
   "outputs": [
    {
     "name": "stdout",
     "output_type": "stream",
     "text": [
      "OrderedDict([('0.weight', tensor([[1.9696]], device='cuda:0')), ('0.bias', tensor([1.0243], device='cuda:0'))])\n"
     ]
    }
   ],
   "source": [
    "print(model.state_dict())"
   ]
  },
  {
   "cell_type": "markdown",
   "id": "086e0d99-b6f6-4a9e-936a-84c02a3a7324",
   "metadata": {},
   "source": [
    "### Mini Batch Inner Loop"
   ]
  },
  {
   "cell_type": "code",
   "execution_count": 24,
   "id": "6b611650-5331-41ae-865b-8763ffdf3bb5",
   "metadata": {
    "tags": []
   },
   "outputs": [],
   "source": [
    "def mini_batch(device, data_loader, step_fn):\n",
    "    mini_batch_losses = []\n",
    "    \n",
    "    for x_batch, y_batch in data_loader:\n",
    "        x_batch = x_batch.to(device)\n",
    "        y_batch = y_batch.to(device)\n",
    "        \n",
    "        mini_batch_loss = step_fn(x_batch, y_batch)\n",
    "        mini_batch_losses.append(mini_batch_loss)\n",
    "        \n",
    "    loss = np.mean(mini_batch_losses)\n",
    "    return loss"
   ]
  },
  {
   "cell_type": "code",
   "execution_count": 25,
   "id": "5a34da08-05b5-4ef2-b17d-40a1403bc5e5",
   "metadata": {
    "tags": []
   },
   "outputs": [
    {
     "name": "stdout",
     "output_type": "stream",
     "text": [
      "Overwriting model_training/v3.py\n"
     ]
    }
   ],
   "source": [
    "%%writefile model_training/v3.py\n",
    "\n",
    "# defines number of epochs\n",
    "n_epochs = 200\n",
    "\n",
    "losses = []\n",
    "\n",
    "for epoch in range(n_epochs):\n",
    "    # mini batch gradient descent\n",
    "    loss = mini_batch(device, train_loader, train_step_fn)\n",
    "    losses.append(loss)"
   ]
  },
  {
   "cell_type": "code",
   "execution_count": 26,
   "id": "3c3a9923-8e03-4bd2-8c74-f9d115e2f3cb",
   "metadata": {
    "tags": []
   },
   "outputs": [],
   "source": [
    "%run -i model_training/v3.py"
   ]
  },
  {
   "cell_type": "code",
   "execution_count": 27,
   "id": "a76b2b14-3af7-4f02-84da-4faed9d502b6",
   "metadata": {
    "tags": []
   },
   "outputs": [
    {
     "name": "stdout",
     "output_type": "stream",
     "text": [
      "OrderedDict([('0.weight', tensor([[1.9696]], device='cuda:0')), ('0.bias', tensor([1.0260], device='cuda:0'))])\n"
     ]
    }
   ],
   "source": [
    "# Check model's parameters\n",
    "print(model.state_dict())"
   ]
  },
  {
   "cell_type": "markdown",
   "id": "f627bcc1-9bd6-48bb-b543-1f0f64a31147",
   "metadata": {},
   "source": [
    "### Random Split"
   ]
  },
  {
   "cell_type": "code",
   "execution_count": 28,
   "id": "ae27b375-9f71-46be-b233-4a69fb317393",
   "metadata": {},
   "outputs": [
    {
     "name": "stdout",
     "output_type": "stream",
     "text": [
      "Overwriting data_preparation/v2.py\n"
     ]
    }
   ],
   "source": [
    "%%writefile data_preparation/v2.py\n",
    "\n",
    "torch.manual_seed(13)\n",
    "\n",
    "# Builds tensors from Numpy arrays BEFORE split\n",
    "x_tensor = torch.as_tensor(x).float()\n",
    "y_tensor = torch.as_tensor(y).float()\n",
    "\n",
    "# Builds dataset containing ALL data points\n",
    "dataset = TensorDataset(x_tensor, y_tensor)\n",
    "\n",
    "# Performs the split\n",
    "ratio = .8\n",
    "n_total = len(dataset)\n",
    "n_train = int(n_total * ratio)\n",
    "n_val = n_total - n_train\n",
    "train_data, val_data = random_split(dataset, [n_train, n_val])\n",
    "\n",
    "# Builds a loader of each set\n",
    "train_loader = DataLoader(\n",
    "        dataset=train_data,\n",
    "        batch_size=16,\n",
    "        shuffle=True\n",
    ")\n",
    "\n",
    "val_loader = DataLoader(dataset=val_data, batch_size=16)"
   ]
  },
  {
   "cell_type": "code",
   "execution_count": 29,
   "id": "7b8f9453-8537-42ca-b5a7-7bdaf38dc4f9",
   "metadata": {
    "tags": []
   },
   "outputs": [],
   "source": [
    "# Run Data Preparation\n",
    "%run -i data_preparation/v2.py"
   ]
  },
  {
   "cell_type": "markdown",
   "id": "a9c7698e-c1de-43a2-8483-2445ac318503",
   "metadata": {},
   "source": [
    "## Evaluation"
   ]
  },
  {
   "cell_type": "code",
   "execution_count": 30,
   "id": "dffe495d-2471-4d75-ad48-fff6c2b04416",
   "metadata": {
    "tags": []
   },
   "outputs": [],
   "source": [
    "# Helper function #3\n",
    "\n",
    "def make_val_step_fn(model, loss_fn):\n",
    "    # Builds function that performs a step\n",
    "    # in the validation loop\n",
    "    def perform_val_step_fn(x, y):\n",
    "        # Sets model to EVAL mode\n",
    "        model.eval()\n",
    "        \n",
    "        # Step 1 - Computes predictions - forward pass\n",
    "        yhat = model(x)\n",
    "        # Step 2 - Computes the loss\n",
    "        loss = loss_fn(yhat, y)\n",
    "        # No need to compute gradients as we won't update parameters during evaluation\n",
    "        return loss.item()\n",
    "    \n",
    "    return perform_val_step_fn"
   ]
  },
  {
   "cell_type": "markdown",
   "id": "68498847-df3d-48b5-b60f-f26196c48700",
   "metadata": {},
   "source": [
    "Define - Model Configuration V2"
   ]
  },
  {
   "cell_type": "code",
   "execution_count": 31,
   "id": "596159ac-2720-4154-895b-8820a29fd33d",
   "metadata": {
    "tags": []
   },
   "outputs": [
    {
     "name": "stdout",
     "output_type": "stream",
     "text": [
      "Overwriting model_configuration/v2.py\n"
     ]
    }
   ],
   "source": [
    "%%writefile model_configuration/v2.py\n",
    "\n",
    "device = 'cuda' if torch.cuda.is_available() else 'cpu'\n",
    "\n",
    "# Sets learning rate\n",
    "lr = 0.1\n",
    "\n",
    "torch.manual_seed(42)\n",
    "# Send model to device\n",
    "model = nn.Sequential(nn.Linear(1, 1)).to(device)\n",
    "\n",
    "# Defines SGD optimizer\n",
    "optimizer = optim.SGD(model.parameters(), lr=lr)\n",
    "\n",
    "# Defines an MSE loss function\n",
    "loss_fn = nn.MSELoss(reduction='mean')\n",
    "\n",
    "# Creates the train_step function using the model, optimizer and loss_fn\n",
    "train_step_fn = make_train_step_fn(model, loss_fn, optimizer)\n",
    "\n",
    "# Create the val_step function using the model and loss function\n",
    "val_step_fn = make_val_step_fn(model, loss_fn)"
   ]
  },
  {
   "cell_type": "code",
   "execution_count": 32,
   "id": "06f29d41-3972-462f-a174-6dde7bf4a3a9",
   "metadata": {
    "tags": []
   },
   "outputs": [],
   "source": [
    "# Run model configuration V2\n",
    "%run -i model_configuration/v2.py"
   ]
  },
  {
   "cell_type": "markdown",
   "id": "af48e8ce-198a-42fc-b822-5acc6f056bbf",
   "metadata": {},
   "source": [
    "Update the training loop to perform evaluation"
   ]
  },
  {
   "cell_type": "code",
   "execution_count": 33,
   "id": "af7c4368-91ee-489f-a0a0-a31a8ef38697",
   "metadata": {
    "tags": []
   },
   "outputs": [
    {
     "name": "stdout",
     "output_type": "stream",
     "text": [
      "Overwriting model_training/v4.py\n"
     ]
    }
   ],
   "source": [
    "%%writefile model_training/v4.py\n",
    "\n",
    "# Defines number of epochs\n",
    "n_epochs = 200\n",
    "\n",
    "\n",
    "losses = []\n",
    "val_losses = []\n",
    "\n",
    "for epoch in range(n_epochs):\n",
    "    # Compute loss\n",
    "    loss = mini_batch(device, train_loader, train_step_fn)\n",
    "    losses.append(loss)\n",
    "    \n",
    "    # Validation - no gradients in validation\n",
    "    with torch.no_grad():\n",
    "        val_loss = mini_batch(device, val_loader, val_step_fn)\n",
    "        val_losses.append(val_loss)"
   ]
  },
  {
   "cell_type": "code",
   "execution_count": 34,
   "id": "ed6d369a-39a7-481f-954b-84e827182e46",
   "metadata": {
    "tags": []
   },
   "outputs": [],
   "source": [
    "# run model v4\n",
    "%run -i model_training/v4.py"
   ]
  },
  {
   "cell_type": "code",
   "execution_count": 35,
   "id": "0c2e739b-ab55-4070-8ef2-97354d6d8dfc",
   "metadata": {
    "tags": []
   },
   "outputs": [
    {
     "name": "stdout",
     "output_type": "stream",
     "text": [
      "OrderedDict([('0.weight', tensor([[1.9438]], device='cuda:0')), ('0.bias', tensor([1.0287], device='cuda:0'))])\n"
     ]
    }
   ],
   "source": [
    "print(model.state_dict())"
   ]
  },
  {
   "cell_type": "markdown",
   "id": "a220daab-24a3-4469-a940-ae9197b72c9b",
   "metadata": {},
   "source": [
    "#### Plotting Losses"
   ]
  },
  {
   "cell_type": "code",
   "execution_count": 36,
   "id": "d3f74218-ef1c-42aa-8fbe-2bbe8645e98a",
   "metadata": {
    "tags": []
   },
   "outputs": [
    {
     "data": {
      "image/png": "[encoded data removed]",
      "text/plain": [
       "<Figure size 1000x400 with 1 Axes>"
      ]
     },
     "metadata": {},
     "output_type": "display_data"
    }
   ],
   "source": [
    "fig = plot_losses(losses, val_losses)"
   ]
  },
  {
   "cell_type": "markdown",
   "id": "8a106eb1-f24a-4bf7-a1ba-2137becbf248",
   "metadata": {},
   "source": [
    "## TensorBoard"
   ]
  },
  {
   "cell_type": "code",
   "execution_count": 37,
   "id": "7fdd72df-f43d-43d7-a9b9-5e18715b154b",
   "metadata": {
    "tags": []
   },
   "outputs": [],
   "source": [
    "# load the TensorBoard notebook extension\n",
    "# %load_ext tensorboard"
   ]
  },
  {
   "cell_type": "markdown",
   "id": "158b9cdf-a39b-438a-a299-d15f87934f87",
   "metadata": {},
   "source": [
    "Running TensorBoard"
   ]
  },
  {
   "cell_type": "code",
   "execution_count": 38,
   "id": "076dbf81-716d-4ba3-bf98-88a02a605e52",
   "metadata": {
    "tags": []
   },
   "outputs": [],
   "source": [
    "#%tensorboard --logdir runs"
   ]
  },
  {
   "cell_type": "markdown",
   "id": "3d7a51dc-cb6d-43b3-8400-168c987dca92",
   "metadata": {},
   "source": [
    "### Summary Writer"
   ]
  },
  {
   "cell_type": "code",
   "execution_count": 39,
   "id": "53a682aa-434e-494f-bd5b-ef1c3c39b446",
   "metadata": {
    "tags": []
   },
   "outputs": [],
   "source": [
    "writer = SummaryWriter('runs/test')"
   ]
  },
  {
   "cell_type": "markdown",
   "id": "158737d4-5591-49ed-b5e5-cc091a028ed4",
   "metadata": {},
   "source": [
    "Incorporating stats to TensorBoard within the model configuration and training"
   ]
  },
  {
   "cell_type": "code",
   "execution_count": 40,
   "id": "8d85399c-1caa-45aa-8ff6-fe8e08e99ede",
   "metadata": {
    "tags": []
   },
   "outputs": [
    {
     "data": {
      "text/plain": [
       "<Figure size 640x480 with 0 Axes>"
      ]
     },
     "metadata": {},
     "output_type": "display_data"
    }
   ],
   "source": [
    "%run -i data_preparation/v2.py"
   ]
  },
  {
   "cell_type": "code",
   "execution_count": 41,
   "id": "9ec29f12-3302-485a-938c-0f10e819c63e",
   "metadata": {
    "tags": []
   },
   "outputs": [
    {
     "name": "stdout",
     "output_type": "stream",
     "text": [
      "Overwriting model_configuration/v3.py\n"
     ]
    }
   ],
   "source": [
    "%%writefile model_configuration/v3.py\n",
    "\n",
    "device = 'cuda' if torch.cuda.is_available() else 'cpu'\n",
    "\n",
    "# Sets learning rate\n",
    "lr = 0.1\n",
    "\n",
    "torch.manual_seed(42)\n",
    "\n",
    "# Create model and send to device\n",
    "model = nn.Sequential(nn.Linear(1,1)).to(device)\n",
    "\n",
    "# Defines an SGD optimizer to update the parameters\n",
    "optimizer = optim.SGD(model.parameters(), lr=lr)\n",
    "\n",
    "# Defines an MSE loss function\n",
    "loss_fn = nn.MSELoss(reduction='mean')\n",
    "\n",
    "# Creates the train step function using model , loss_fn, and optimizedr\n",
    "train_step_fn = make_train_step_fn(model, loss_fn, optimizer)\n",
    "\n",
    "# Creates the val step function \n",
    "val_step_fn = make_val_step_fn(model, loss_fn)\n",
    "\n",
    "# Creates a SummaryWriter to interface with TensorBoard\n",
    "writer = SummaryWriter('runs/simple_linear_regression')\n",
    "\n",
    "# fetches a single mini-batch so we can use add_graph\n",
    "x_dummy,  y_dummy = next(iter(train_loader))\n",
    "writer.add_graph(model, x_dummy.to(device))"
   ]
  },
  {
   "cell_type": "code",
   "execution_count": 42,
   "id": "ec8790cf-9a14-4ed2-9d96-9722f9dfcb33",
   "metadata": {
    "tags": []
   },
   "outputs": [],
   "source": [
    "%run -i model_configuration/v3.py"
   ]
  },
  {
   "cell_type": "markdown",
   "id": "2ca59e6c-e475-4f68-a51f-fff1f2bce590",
   "metadata": {},
   "source": [
    "Update the training loop"
   ]
  },
  {
   "cell_type": "code",
   "execution_count": 43,
   "id": "d7045394-07c6-4259-903b-daf57d59b6ba",
   "metadata": {
    "tags": []
   },
   "outputs": [
    {
     "name": "stdout",
     "output_type": "stream",
     "text": [
      "Overwriting model_training/v5.py\n"
     ]
    }
   ],
   "source": [
    "%%writefile model_training/v5.py\n",
    "\n",
    "# epochs\n",
    "n_epochs = 200\n",
    "\n",
    "losses = []\n",
    "val_losses = []\n",
    "\n",
    "for epoch in range(n_epochs):\n",
    "    # Compute loss\n",
    "    loss = mini_batch(device, train_loader, train_step_fn)\n",
    "    losses.append(loss)\n",
    "    \n",
    "    # Validation - No gradients in validation\n",
    "    with torch.no_grad():\n",
    "        val_loss = mini_batch(device, val_loader, val_step_fn)\n",
    "        val_losses.append(val_loss)\n",
    "        \n",
    "    # Records train and validation losses for each epoch under tag 'loss'\n",
    "    writer.add_scalars(\n",
    "            main_tag='loss',\n",
    "            tag_scalar_dict={'training': loss,\n",
    "                            'validation': val_loss},\n",
    "            global_step=epoch\n",
    "    )\n",
    "    \n",
    "# Closes the writer\n",
    "writer.close()"
   ]
  },
  {
   "cell_type": "code",
   "execution_count": 44,
   "id": "9930defa-41e3-400c-a1dd-fbbb80d6aefb",
   "metadata": {
    "tags": []
   },
   "outputs": [],
   "source": [
    "%run -i model_training/v5.py"
   ]
  },
  {
   "cell_type": "code",
   "execution_count": 45,
   "id": "b5318584-a939-459d-8c36-7542dd65f83b",
   "metadata": {
    "tags": []
   },
   "outputs": [
    {
     "name": "stdout",
     "output_type": "stream",
     "text": [
      "OrderedDict([('0.weight', tensor([[1.9432]], device='cuda:0')), ('0.bias', tensor([1.0263], device='cuda:0'))])\n"
     ]
    }
   ],
   "source": [
    "print(model.state_dict())"
   ]
  },
  {
   "cell_type": "markdown",
   "id": "faebe917-e51f-435a-aa91-afed9fb958ab",
   "metadata": {},
   "source": [
    "## Saving and Loading Models"
   ]
  },
  {
   "cell_type": "code",
   "execution_count": 46,
   "id": "499af723-1a40-43c1-96cc-bd022a0e634c",
   "metadata": {
    "tags": []
   },
   "outputs": [],
   "source": [
    "# Saving Checkpoint\n",
    "# Need to create a dictionary to save the state of the model and of the optimizer\n",
    "checkpoint = {\n",
    "        'epoch': n_epochs,\n",
    "        'model_state_dict': model.state_dict(),\n",
    "        'optimizer_state_dict': optimizer.state_dict(),\n",
    "        'loss': losses,\n",
    "        'val_loss': val_losses\n",
    "}\n",
    "\n",
    "# dump into file\n",
    "torch.save(checkpoint, 'model_checkpoint.pth')"
   ]
  },
  {
   "cell_type": "markdown",
   "id": "206d6e79-6f9d-4b42-8ed8-6914fba267bf",
   "metadata": {},
   "source": [
    "### Resuming Training"
   ]
  },
  {
   "cell_type": "code",
   "execution_count": 47,
   "id": "7b8046c3-e12b-4a9a-8b98-eb670744d8aa",
   "metadata": {
    "tags": []
   },
   "outputs": [],
   "source": [
    "# Starting a fresh model - untrained\n",
    "\n",
    "%run -i data_preparation/v2.py\n",
    "%run -i model_configuration/v3.py"
   ]
  },
  {
   "cell_type": "code",
   "execution_count": 48,
   "id": "a05d0dd4-3c61-4988-9b6d-0fa0311c96f7",
   "metadata": {
    "tags": []
   },
   "outputs": [
    {
     "name": "stdout",
     "output_type": "stream",
     "text": [
      "OrderedDict([('0.weight', tensor([[0.7645]], device='cuda:0')), ('0.bias', tensor([0.8300], device='cuda:0'))])\n"
     ]
    }
   ],
   "source": [
    "print(model.state_dict())"
   ]
  },
  {
   "cell_type": "code",
   "execution_count": 49,
   "id": "9dae3426-30c1-4e0f-b8bb-e060e90e4944",
   "metadata": {
    "tags": []
   },
   "outputs": [
    {
     "data": {
      "text/plain": [
       "Sequential(\n",
       "  (0): Linear(in_features=1, out_features=1, bias=True)\n",
       ")"
      ]
     },
     "execution_count": 49,
     "metadata": {},
     "output_type": "execute_result"
    }
   ],
   "source": [
    "# Load model\n",
    "checkpoint = torch.load('model_checkpoint.pth')\n",
    "\n",
    "model.load_state_dict(checkpoint['model_state_dict'])\n",
    "optimizer.load_state_dict(checkpoint['optimizer_state_dict'])\n",
    "\n",
    "saved_epoch = checkpoint['epoch']\n",
    "saved_losses = checkpoint['loss']\n",
    "saved_val_losses = checkpoint['val_loss']\n",
    "\n",
    "model.train() # always use TRAIN for resuming training"
   ]
  },
  {
   "cell_type": "code",
   "execution_count": 50,
   "id": "a3e36ab7-8865-48d0-88d5-870f539a73fa",
   "metadata": {
    "tags": []
   },
   "outputs": [],
   "source": [
    "# train model\n",
    "%run -i model_training/v5.py"
   ]
  },
  {
   "cell_type": "code",
   "execution_count": 51,
   "id": "9f41a785-ca52-4ed9-9391-95c461b2281f",
   "metadata": {
    "tags": []
   },
   "outputs": [
    {
     "name": "stdout",
     "output_type": "stream",
     "text": [
      "OrderedDict([('0.weight', tensor([[1.9432]], device='cuda:0')), ('0.bias', tensor([1.0263], device='cuda:0'))])\n"
     ]
    }
   ],
   "source": [
    "print(model.state_dict())"
   ]
  },
  {
   "cell_type": "code",
   "execution_count": 52,
   "id": "df85b6fd-b50c-4b8a-9d91-3f3a8a2ddcec",
   "metadata": {
    "tags": []
   },
   "outputs": [
    {
     "data": {
      "image/png": "[encoded data removed]",
      "text/plain": [
       "<Figure size 1000x400 with 1 Axes>"
      ]
     },
     "metadata": {},
     "output_type": "display_data"
    }
   ],
   "source": [
    "fig = plot_resumed_losses(saved_epoch, saved_losses, saved_val_losses, n_epochs, losses, val_losses)"
   ]
  },
  {
   "cell_type": "markdown",
   "id": "5574e86f-9cac-4d90-8cdc-1712e45cb4f2",
   "metadata": {},
   "source": [
    "Since we saved a fully trained model, we run it for an extra 200 epochs. The plot shows that the model had already converged to the minima in the first 200 epochs"
   ]
  },
  {
   "cell_type": "markdown",
   "id": "cd11e82f-edec-4f94-9b24-14be8233b994",
   "metadata": {},
   "source": [
    "### Deploying / Making Predictions"
   ]
  },
  {
   "cell_type": "code",
   "execution_count": 54,
   "id": "3a092372-7d91-460d-bd8c-61894c505cc0",
   "metadata": {
    "tags": []
   },
   "outputs": [],
   "source": [
    "# get an untrained model\n",
    "%run -i model_configuration/v3.py"
   ]
  },
  {
   "cell_type": "code",
   "execution_count": 55,
   "id": "98353d9f-69b5-4a1d-a073-10049ac27ab7",
   "metadata": {
    "tags": []
   },
   "outputs": [
    {
     "name": "stdout",
     "output_type": "stream",
     "text": [
      "OrderedDict([('0.weight', tensor([[1.9432]], device='cuda:0')), ('0.bias', tensor([1.0263], device='cuda:0'))])\n"
     ]
    }
   ],
   "source": [
    "# load a trained model\n",
    "checkpoint = torch.load('model_checkpoint.pth')\n",
    "\n",
    "model.load_state_dict(checkpoint['model_state_dict'])\n",
    "\n",
    "print(model.state_dict())"
   ]
  },
  {
   "cell_type": "code",
   "execution_count": 57,
   "id": "ee50a240-6824-414a-bb5d-b56889120865",
   "metadata": {
    "tags": []
   },
   "outputs": [
    {
     "data": {
      "text/plain": [
       "tensor([[1.4150],\n",
       "        [1.6870],\n",
       "        [2.1340]], device='cuda:0', grad_fn=<AddmmBackward0>)"
      ]
     },
     "execution_count": 57,
     "metadata": {},
     "output_type": "execute_result"
    }
   ],
   "source": [
    "# make predictions\n",
    "new_inputs = torch.tensor([[.20], [.34], [.57]])\n",
    "\n",
    "model.eval() # Always use EVAL for fully trained models\n",
    "model(new_inputs.to(device))"
   ]
  },
  {
   "cell_type": "markdown",
   "id": "81a2dbe6-8863-47fd-81e9-f62864c1c843",
   "metadata": {},
   "source": [
    "## Putting it All Together"
   ]
  },
  {
   "cell_type": "code",
   "execution_count": 62,
   "id": "0f3611eb-183c-42d9-b28f-85abe363b22c",
   "metadata": {
    "tags": []
   },
   "outputs": [],
   "source": [
    "# %load data_preparation/v2.py\n",
    "\n",
    "torch.manual_seed(13)\n",
    "\n",
    "# Builds tensors from Numpy arrays BEFORE split\n",
    "x_tensor = torch.as_tensor(x).float()\n",
    "y_tensor = torch.as_tensor(y).float()\n",
    "\n",
    "# Builds dataset containing ALL data points\n",
    "dataset = TensorDataset(x_tensor, y_tensor)\n",
    "\n",
    "# Performs the split\n",
    "ratio = .8\n",
    "n_total = len(dataset)\n",
    "n_train = int(n_total * ratio)\n",
    "n_val = n_total - n_train\n",
    "train_data, val_data = random_split(dataset, [n_train, n_val])\n",
    "# Builds a loader of each set\n",
    "train_loader = DataLoader(\n",
    "    dataset=train_data,\n",
    "    batch_size=16,\n",
    "    shuffle=True\n",
    ")\n",
    "val_loader = DataLoader(dataset=val_data, batch_size=16)"
   ]
  },
  {
   "cell_type": "code",
   "execution_count": 63,
   "id": "cb400af7-073e-4e15-adb8-13e5de3473e1",
   "metadata": {
    "tags": []
   },
   "outputs": [],
   "source": [
    "# %load model_configuration/v3.py\n",
    "\n",
    "device = 'cuda' if torch.cuda.is_available() else 'cpu'\n",
    "\n",
    "# Sets learning rate\n",
    "lr = 0.1\n",
    "\n",
    "torch.manual_seed(42)\n",
    "# Creates model and sends it to device\n",
    "model = nn.Sequential(nn.Linear(1, 1)).to(device)\n",
    "\n",
    "# Defines an SGD optimizer to update the parameters\n",
    "optimizer = optim.SGD(model.parameters(), lr=lr)\n",
    "\n",
    "# Defines an MSE Loss function\n",
    "loss_fn = nn.MSELoss(reduction='mean')\n",
    "\n",
    "# Creates train step function for the model, loss function and optimizer\n",
    "train_step_fn = make_train_step_fn(model, loss_fn, optimizer)\n",
    "\n",
    "# Creates the val_step function for the model and loss function\n",
    "val_step_fn = make_val_step_fn(model, loss_fn)\n",
    "\n",
    "# Creates a Summary Writer to interface with TensorBoard\n",
    "writer = SummaryWriter('runs/simple_linear_regression/')\n",
    "# Fetches a single mini-batch so we can use add_graph\n",
    "x_dummy, y_dummy = next(iter(train_loader))\n",
    "writer.add_graph(model, x_dummy.to(device))"
   ]
  },
  {
   "cell_type": "code",
   "execution_count": 64,
   "id": "32862b17-9b37-4097-a279-61fc72e55ef1",
   "metadata": {
    "tags": []
   },
   "outputs": [],
   "source": [
    "# %load model_training/v5.py\n",
    "\n",
    "# Defines number of epochs\n",
    "n_epochs = 200\n",
    "\n",
    "losses = []\n",
    "val_losses = []\n",
    "\n",
    "for epoch in range(n_epochs):\n",
    "    # Compute loss\n",
    "    loss = mini_batch(device, train_loader, train_step_fn)\n",
    "    losses.append(loss)\n",
    "    \n",
    "    # VALIDATION - no gradients in validation\n",
    "    with torch.no_grad():\n",
    "        val_loss = mini_batch(device, val_loader, val_step_fn)\n",
    "        val_losses.append(val_loss)\n",
    "    \n",
    "    # records both losses for each epoch under tag 'loss'\n",
    "    writer.add_scalars(main_tag='loss',\n",
    "                       tag_scalar_dict={\n",
    "                           'training': loss,\n",
    "                           'validation': val_loss\n",
    "                       },\n",
    "                       global_step=epoch)\n",
    "    \n",
    "# closes the writers\n",
    "writer.close()"
   ]
  },
  {
   "cell_type": "code",
   "execution_count": 65,
   "id": "8ebf6200-3e6e-48e3-a194-d17692a5db2a",
   "metadata": {
    "tags": []
   },
   "outputs": [
    {
     "name": "stdout",
     "output_type": "stream",
     "text": [
      "OrderedDict([('0.weight', tensor([[1.9432]], device='cuda:0')), ('0.bias', tensor([1.0263], device='cuda:0'))])\n"
     ]
    }
   ],
   "source": [
    "print(model.state_dict())"
   ]
  },
  {
   "cell_type": "code",
   "execution_count": null,
   "id": "e55789b3-5834-481d-93a0-f8ecf566095a",
   "metadata": {},
   "outputs": [],
   "source": []
  }
 ],
 "metadata": {
  "kernelspec": {
   "display_name": "Python 3 (ipykernel)",
   "language": "python",
   "name": "python3"
  },
  "language_info": {
   "codemirror_mode": {
    "name": "ipython",
    "version": 3
   },
   "file_extension": ".py",
   "mimetype": "text/x-python",
   "name": "python",
   "nbconvert_exporter": "python",
   "pygments_lexer": "ipython3",
   "version": "3.11.3"
  }
 },
 "nbformat": 4,
 "nbformat_minor": 5
}
